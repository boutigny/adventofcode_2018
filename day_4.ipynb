{
 "cells": [
  {
   "cell_type": "code",
   "execution_count": 67,
   "metadata": {},
   "outputs": [],
   "source": [
    "# Small dataset as example\n",
    "\n",
    "tags = [\n",
    "    '[1518-11-01 00:00] Guard #10 begins shift',\n",
    "    '[1518-11-01 00:05] falls asleep',\n",
    "    '[1518-11-01 00:25] wakes up',\n",
    "    '[1518-11-01 00:30] falls asleep',\n",
    "    '[1518-11-01 00:55] wakes up',\n",
    "    '[1518-11-01 23:58] Guard #99 begins shift',\n",
    "    '[1518-11-02 00:40] falls asleep',\n",
    "    '[1518-11-02 00:50] wakes up',\n",
    "    '[1518-11-03 00:05] Guard #10 begins shift',\n",
    "    '[1518-11-03 00:24] falls asleep',\n",
    "    '[1518-11-03 00:29] wakes up',\n",
    "    '[1518-11-04 00:02] Guard #99 begins shift',\n",
    "    '[1518-11-04 00:36] falls asleep',\n",
    "    '[1518-11-04 00:46] wakes up',\n",
    "    '[1518-11-05 00:03] Guard #99 begins shift',\n",
    "    '[1518-11-05 00:45] falls asleep',\n",
    "    '[1518-11-05 00:55] wakes up']\n"
   ]
  },
  {
   "cell_type": "code",
   "execution_count": 71,
   "metadata": {},
   "outputs": [],
   "source": [
    "# Second small dataset with scrambled timestamp\n",
    "tags = [   \n",
    "    '[1518-05-30 00:27] wakes up',\n",
    "    '[1518-11-02 00:00] Guard #433 begins shift',\n",
    "    '[1518-07-05 23:56] Guard #2593 begins shift',\n",
    "    '[1518-03-31 00:55] falls asleep',\n",
    "    '[1518-06-20 00:17] falls asleep',\n",
    "    '[1518-09-10 00:00] Guard #277 begins shift',\n",
    "    '[1518-11-14 00:39] falls asleep',\n",
    "    '[1518-09-08 23:59] Guard #1709 begins shift',\n",
    "    '[1518-08-23 00:35] falls asleep',\n",
    "    '[1518-06-03 00:46] wakes up',\n",
    "    '[1518-02-27 00:59] wakes up',\n",
    "    '[1518-03-18 00:10] falls asleep',\n",
    "    '[1518-09-28 00:49] wakes up',\n",
    "    '[1518-05-19 00:55] wakes up',\n",
    "    '[1518-03-20 00:42] wakes up',\n",
    "    '[1518-06-03 00:00] Guard #1871 begins shift',\n",
    "    '[1518-07-04 00:38] wakes up',\n",
    "    '[1518-06-08 00:32] wakes up',\n",
    "    '[1518-08-13 00:04] Guard #1871 begins shift',\n",
    "    '[1518-05-24 00:00] Guard #739 begins shift',\n",
    "    '[1518-03-02 00:03] Guard #103 begins shift',\n",
    "    '[1518-04-09 00:44] wakes up',\n",
    "    '[1518-08-27 00:22] falls asleep',\n",
    "    '[1518-11-07 00:50] wakes up',\n",
    "    '[1518-05-30 00:16] falls asleep',\n",
    "    '[1518-09-12 00:49] wakes up',\n",
    "    '[1518-02-17 00:38] falls asleep',\n",
    "    '[1518-10-05 00:49] wakes up',\n",
    "    '[1518-05-28 00:01] falls asleep',\n",
    "    '[1518-03-31 00:52] wakes up']"
   ]
  },
  {
   "cell_type": "code",
   "execution_count": 90,
   "metadata": {},
   "outputs": [
    {
     "data": {
      "text/plain": [
       "1097"
      ]
     },
     "execution_count": 90,
     "metadata": {},
     "output_type": "execute_result"
    }
   ],
   "source": [
    "# Read full dataset\n",
    "\n",
    "with open(\"day_4.input\") as f:\n",
    "    tags = list(map(str.strip,f.readlines()))\n",
    "    \n",
    "len(tags)"
   ]
  },
  {
   "cell_type": "code",
   "execution_count": 91,
   "metadata": {},
   "outputs": [],
   "source": [
    "# Reorganize in chronological order\n",
    "a = np.array(tags)\n",
    "tags = np.sort(a)"
   ]
  },
  {
   "cell_type": "code",
   "execution_count": 92,
   "metadata": {},
   "outputs": [
    {
     "data": {
      "text/plain": [
       "array(['[1518-02-15 23:57] Guard #433 begins shift',\n",
       "       '[1518-02-16 00:28] falls asleep', '[1518-02-16 00:45] wakes up',\n",
       "       ..., '[1518-11-22 23:59] Guard #1097 begins shift',\n",
       "       '[1518-11-23 00:12] falls asleep', '[1518-11-23 00:30] wakes up'],\n",
       "      dtype='<U43')"
      ]
     },
     "execution_count": 92,
     "metadata": {},
     "output_type": "execute_result"
    }
   ],
   "source": [
    "tags"
   ]
  },
  {
   "cell_type": "code",
   "execution_count": 93,
   "metadata": {},
   "outputs": [],
   "source": [
    "def getMinutes(t):\n",
    "    minute = int(t.split(']')[0].split(' ')[1].split(':')[1])\n",
    "    return minute\n",
    "def getGuard(t):\n",
    "    guard = int(t.split(' ')[3].split('#')[1])\n",
    "    return guard"
   ]
  },
  {
   "cell_type": "code",
   "execution_count": 94,
   "metadata": {},
   "outputs": [
    {
     "name": "stdout",
     "output_type": "stream",
     "text": [
      "Most sleepy guard: 727 slept for 449.0  minutes\n",
      "Most slept minute(s): (array([49]),)\n",
      "Result: 35623\n"
     ]
    }
   ],
   "source": [
    "import numpy as np\n",
    "\n",
    "guardList = []\n",
    "sched = {}\n",
    "for t in tags:\n",
    "    key = t.split(' ')[2]\n",
    "    if key == 'Guard':\n",
    "        guard = getGuard(t)\n",
    "        if guard not in guardList:\n",
    "            guardList.append(guard)\n",
    "            sched[guard] = np.zeros(60)\n",
    "        continue\n",
    "    if key == 'falls':\n",
    "        start = getMinutes(t)\n",
    "    if key == 'wakes':\n",
    "        stop = getMinutes(t)\n",
    "        for i in range(start, stop):\n",
    "            sched[guard][i] += 1\n",
    "\n",
    "# Find the guard with the most minutes asleep\n",
    "sleepyGuard = 0\n",
    "minMax = 0\n",
    "for g in guardList:\n",
    "    c = np.sum(sched[g])\n",
    "    if c > minMax:\n",
    "        minMax = c\n",
    "        sleepyGuard = g\n",
    "        \n",
    "print(\"Most sleepy guard:\", sleepyGuard, \"slept for\", minMax, \" minutes\")\n",
    "\n",
    "# Find most slept minute\n",
    "maximum = np.max(sched[sleepyGuard])\n",
    "mostSlept = np.where(sched[sleepyGuard] == maximum)\n",
    "print(\"Most slept minute(s):\", mostSlept)\n",
    "print('Result:', sleepyGuard*mostSlept[0][0])"
   ]
  },
  {
   "cell_type": "code",
   "execution_count": null,
   "metadata": {},
   "outputs": [],
   "source": []
  }
 ],
 "metadata": {
  "kernelspec": {
   "display_name": "Python 3",
   "language": "python",
   "name": "python3"
  },
  "language_info": {
   "codemirror_mode": {
    "name": "ipython",
    "version": 3
   },
   "file_extension": ".py",
   "mimetype": "text/x-python",
   "name": "python",
   "nbconvert_exporter": "python",
   "pygments_lexer": "ipython3",
   "version": "3.6.6"
  }
 },
 "nbformat": 4,
 "nbformat_minor": 2
}
