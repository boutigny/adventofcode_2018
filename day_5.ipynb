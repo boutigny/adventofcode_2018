{
 "cells": [
  {
   "cell_type": "code",
   "execution_count": 55,
   "metadata": {},
   "outputs": [
    {
     "data": {
      "text/plain": [
       "1"
      ]
     },
     "execution_count": 55,
     "metadata": {},
     "output_type": "execute_result"
    }
   ],
   "source": [
    "# Read full dataset\n",
    "\n",
    "with open(\"day_5.input\") as f:\n",
    "    tags = list(map(str.strip,f.readlines()))\n",
    "len(tags)"
   ]
  },
  {
   "cell_type": "code",
   "execution_count": null,
   "metadata": {},
   "outputs": [],
   "source": [
    "tags"
   ]
  },
  {
   "cell_type": "code",
   "execution_count": 52,
   "metadata": {},
   "outputs": [],
   "source": [
    "# Small dataset as an example\n",
    "tags = ['dabAcCaCBAcCcaDA']"
   ]
  },
  {
   "cell_type": "code",
   "execution_count": 56,
   "metadata": {},
   "outputs": [
    {
     "name": "stdout",
     "output_type": "stream",
     "text": [
      "Number of iterations: 203  Number of units after full reaction: 11636\n"
     ]
    }
   ],
   "source": [
    "from string import ascii_lowercase\n",
    "\n",
    "pairs = []\n",
    "for l in ascii_lowercase:\n",
    "    u = l.upper()\n",
    "    pairs.append(l+u)\n",
    "    pairs.append(u+l)\n",
    "\n",
    "polymer = tags[0]\n",
    "new = ''\n",
    "#print(polymer)\n",
    "\n",
    "oldPolymer = polymer\n",
    "cnt = 0\n",
    "while len(new) != len(oldPolymer):\n",
    "    cnt += 1\n",
    "    oldPolymer = polymer\n",
    "    for p in pairs:\n",
    "        polymer = polymer.replace(p,'')\n",
    "\n",
    "    new = polymer\n",
    "\n",
    "print('Number of iterations:', cnt, ' Number of units after full reaction:', len(new))"
   ]
  },
  {
   "cell_type": "code",
   "execution_count": 57,
   "metadata": {},
   "outputs": [
    {
     "name": "stdout",
     "output_type": "stream",
     "text": [
      "Shortest polymer: 5302\n"
     ]
    }
   ],
   "source": [
    "shortest = 999999\n",
    "for u in ascii_lowercase:\n",
    "    polymer = tags[0]\n",
    "    new = ''\n",
    "    # remove unit type from the polymer chain\n",
    "    polymer = polymer.replace(u,'')\n",
    "    polymer = polymer.replace(u.upper(),'')\n",
    "    oldPolymer = polymer\n",
    "    cnt = 0\n",
    "    while len(new) != len(oldPolymer):\n",
    "        cnt += 1\n",
    "        oldPolymer = polymer\n",
    "        for p in pairs:\n",
    "            polymer = polymer.replace(p,'')\n",
    "\n",
    "        new = polymer\n",
    "    if len(new) < shortest:\n",
    "        shortest = len(new)\n",
    "print(\"Shortest polymer:\", shortest)\n"
   ]
  }
 ],
 "metadata": {
  "kernelspec": {
   "display_name": "Python 3",
   "language": "python",
   "name": "python3"
  },
  "language_info": {
   "codemirror_mode": {
    "name": "ipython",
    "version": 3
   },
   "file_extension": ".py",
   "mimetype": "text/x-python",
   "name": "python",
   "nbconvert_exporter": "python",
   "pygments_lexer": "ipython3",
   "version": "3.6.6"
  }
 },
 "nbformat": 4,
 "nbformat_minor": 2
}
