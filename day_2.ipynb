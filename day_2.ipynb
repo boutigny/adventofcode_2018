{
 "cells": [
  {
   "cell_type": "markdown",
   "metadata": {},
   "source": [
    "Read day 2 input data"
   ]
  },
  {
   "cell_type": "code",
   "execution_count": 35,
   "metadata": {},
   "outputs": [
    {
     "data": {
      "text/plain": [
       "250"
      ]
     },
     "execution_count": 35,
     "metadata": {},
     "output_type": "execute_result"
    }
   ],
   "source": [
    "with open(\"day_2.input\") as f:\n",
    "    tags = list(map(str.strip,f.readlines()))\n",
    "    \n",
    "len(tags)"
   ]
  },
  {
   "cell_type": "markdown",
   "metadata": {},
   "source": [
    "### Day 2 - Part 1\n",
    "Compute checksum"
   ]
  },
  {
   "cell_type": "code",
   "execution_count": 21,
   "metadata": {},
   "outputs": [
    {
     "name": "stdout",
     "output_type": "stream",
     "text": [
      "Checksum: 5880\n"
     ]
    }
   ],
   "source": [
    "num_2 = 0\n",
    "num_3 = 0\n",
    "\n",
    "for t in tags:\n",
    "    flag_2 = True\n",
    "    flag_3 = True\n",
    "    chars = ''.join(set(t))\n",
    "    for letter in chars:\n",
    "        occ = t.count(letter)\n",
    "        if occ == 2 and flag_2 :\n",
    "            # print(\"2\", letter)\n",
    "            num_2 += 1\n",
    "            flag_2 = False\n",
    "        elif occ == 3 and flag_3 :\n",
    "            # print(\"3\", letter)\n",
    "            num_3 += 1\n",
    "            flag_3 = False\n",
    "\n",
    "    # print(num_2, num_3)\n",
    "\n",
    "print(\"Checksum:\", num_2*num_3)"
   ]
  },
  {
   "cell_type": "markdown",
   "metadata": {},
   "source": [
    "### Day 2 - Part 2"
   ]
  },
  {
   "cell_type": "code",
   "execution_count": 22,
   "metadata": {},
   "outputs": [],
   "source": [
    "tags = ['abcde', 'fghij', 'klmno', 'pqrst', 'fguij', 'axcye', 'wvxyz']"
   ]
  },
  {
   "cell_type": "code",
   "execution_count": 46,
   "metadata": {},
   "outputs": [
    {
     "name": "stdout",
     "output_type": "stream",
     "text": [
      "16 tiwcdpbseqhxryfmegkvjujvza tiwcdpbseqhxryfmlgkvjujvza\n",
      "tiwcdpbseqhxryfmegkvjujvza\n",
      "tiwcdpbseqhxryfmlgkvjujvza\n",
      "tiwcdpbseqhxryfmgkvjujvza\n"
     ]
    }
   ],
   "source": [
    "length = len(tags[0])\n",
    "for indx, t1 in enumerate(tags[:-1]):\n",
    "    for t2 in tags[indx+1:]:\n",
    "        #print(t1, t2)\n",
    "        cnt = 0\n",
    "        for c1, c2 in zip(t1,t2):\n",
    "            if c1 == c2:\n",
    "                cnt += 1\n",
    "            else:\n",
    "                pos = cnt\n",
    "        if cnt == length-1:\n",
    "            print(pos, t1, t2)\n",
    "            print(t1)\n",
    "            print(t2)\n",
    "            print(t1[0:pos]+t1[pos+1:])\n",
    "    "
   ]
  }
 ],
 "metadata": {
  "kernelspec": {
   "display_name": "Python 3",
   "language": "python",
   "name": "python3"
  },
  "language_info": {
   "codemirror_mode": {
    "name": "ipython",
    "version": 3
   },
   "file_extension": ".py",
   "mimetype": "text/x-python",
   "name": "python",
   "nbconvert_exporter": "python",
   "pygments_lexer": "ipython3",
   "version": "3.6.6"
  }
 },
 "nbformat": 4,
 "nbformat_minor": 2
}
